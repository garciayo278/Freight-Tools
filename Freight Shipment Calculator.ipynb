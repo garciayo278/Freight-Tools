{
 "cells": [
  {
   "cell_type": "code",
   "execution_count": null,
   "id": "2922629d-3ca2-46d5-980f-caa64722a9ce",
   "metadata": {},
   "outputs": [],
   "source": [
    "import googlemaps\n",
    "from datetime import timedelta\n",
    "\n",
    "class ShipmentTimeEstimator:\n",
    "    def __init__(self, api_key):\n",
    "        self.gmaps = googlemaps.Client(key=api_key)\n",
    "        # Standard loading/unloading times (in hours) for different types of cargo\n",
    "        self.loading_times = {\"Dry Van\": 2, \"Refrigerated\": 3, \"Flatbed\": 4}\n",
    "\n",
    "    def estimate_travel_time(self, origin, destination):\n",
    "        # Using Google Maps API to estimate travel time (in seconds)\n",
    "        directions_result = self.gmaps.directions(origin, destination, mode=\"driving\")\n",
    "        duration = directions_result[0]['legs'][0]['duration']['value']\n",
    "        return timedelta(seconds=duration)\n",
    "\n",
    "    def adjust_for_driving_hours(self, travel_time):\n",
    "        # FMCSA Regulations\n",
    "        max_daily_driving_hours = 11\n",
    "        max_continuous_driving_hours = 8\n",
    "\n",
    "        adjusted_time = travel_time\n",
    "        total_hours = adjusted_time.total_seconds() / 3600\n",
    "\n",
    "        # Adjust for daily driving limit\n",
    "        days_needed = total_hours // max_daily_driving_hours\n",
    "        extra_hours_needed = total_hours % max_daily_driving_hours\n",
    "\n",
    "        if extra_hours_needed > 0:\n",
    "            days_needed += 1\n",
    "\n",
    "        # Adjust for continuous driving limit (adding 30 mins break every 8 hours)\n",
    "        breaks_needed = total_hours // max_continuous_driving_hours\n",
    "        adjusted_time += timedelta(minutes=30 * breaks_needed)\n",
    "\n",
    "        return adjusted_time + timedelta(days=days_needed)\n",
    "\n",
    "    def estimate_total_shipment_time(self, cargo_type, origin, destination):\n",
    "        loading_time = timedelta(hours=self.loading_times.get(cargo_type, 2))\n",
    "        travel_time = self.estimate_travel_time(origin, destination)\n",
    "        adjusted_travel_time = self.adjust_for_driving_hours(travel_time)\n",
    "\n",
    "        # Adding loading and unloading time\n",
    "        total_time = adjusted_travel_time + loading_time * 2  # Loading and unloading\n",
    "        return total_time\n",
    "\n",
    "# Example Usage\n",
    "api_key = 'your_api_key'\n",
    "estimator = ShipmentTimeEstimator(api_key)\n",
    "origin = 'Origin City, State'\n",
    "destination = 'Destination City, State'\n",
    "cargo_type = 'Dry Van'\n",
    "\n",
    "estimated_time = estimator.estimate_total_shipment_time(cargo_type, origin, destination)\n",
    "print(f\"Estimated Shipment Time: {estimated_time}\")"
   ]
  }
 ],
 "metadata": {
  "kernelspec": {
   "display_name": "Python 3 (ipykernel)",
   "language": "python",
   "name": "python3"
  },
  "language_info": {
   "codemirror_mode": {
    "name": "ipython",
    "version": 3
   },
   "file_extension": ".py",
   "mimetype": "text/x-python",
   "name": "python",
   "nbconvert_exporter": "python",
   "pygments_lexer": "ipython3",
   "version": "3.12.0"
  }
 },
 "nbformat": 4,
 "nbformat_minor": 5
}
