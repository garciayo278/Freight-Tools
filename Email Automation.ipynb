{
 "cells": [
  {
   "cell_type": "code",
   "execution_count": 3,
   "id": "7fafcb02-4d53-49e6-816d-71dfd10bf507",
   "metadata": {},
   "outputs": [
    {
     "name": "stdout",
     "output_type": "stream",
     "text": [
      "Sent a friendly note to Company One\n"
     ]
    }
   ],
   "source": [
    "import smtplib\n",
    "from email.mime.text import MIMEText\n",
    "from email.mime.multipart import MIMEMultipart\n",
    "from email.mime.image import MIMEImage\n",
    "\n",
    "# Email content\n",
    "subject = \"Let's Chat About Making Your Freight Life Easier 🙂\"\n",
    "body = \"\"\"\n",
    "<p>Hi {company_name},</p>\n",
    "\n",
    "<p>It's Yoel Garcia here from Helpful Freight – we're all about making the movement of goods as smooth as possible. I noticed that you guys are in the business of [What the Company Does], and I couldn't help but reach out.</p>\n",
    "\n",
    "<p>We're really good at [Your Specialization], and our customers love us for [Your Value Proposition]. I'm genuinely curious about how you handle your freight needs and if there's any way we could make your life easier.</p>\n",
    "\n",
    "<p>What do you say to a quick chat? Maybe we could swap some stories and ideas. Let me know a time that works for you, and let's make it happen!</p>\n",
    "\n",
    "<p>Cheers,</p>\n",
    "<p>Yoel Garcia</p>\n",
    "\"\"\"\n",
    "\n",
    "# Signature as HTML\n",
    "signature_html = \"\"\"\n",
    "<br>\n",
    "<p>Best,</p>\n",
    "<p><strong>Yoel Garcia (he/him)</strong><br>\n",
    "Owner | <strong>Helpful Freight LLC</strong> | Transportation Services<br>\n",
    "<a href=\"https://www.helpfulfreight.com\">www.helpfulfreight.com</a><br>\n",
    "(616) 419-7609</p>\n",
    "<p><img src='cid:logo'></p>\n",
    "\"\"\"\n",
    "\n",
    "# SMTP server configuration\n",
    "smtp_server = \"smtp.gmail.com\"\n",
    "smtp_port = 587\n",
    "username = \"garciayo@helpfulfreight.com\"\n",
    "password = \"esys bpwu cfbt vpaw\"\n",
    "\n",
    "# Send email function with embedded image\n",
    "def send_email(recipient_email, company_name):\n",
    "    # Setup the MIME\n",
    "    message = MIMEMultipart('related')\n",
    "    message['From'] = username\n",
    "    message['To'] = recipient_email\n",
    "    message['Subject'] = subject\n",
    "    \n",
    "    # Combine body and signature\n",
    "    email_html = body.format(company_name=company_name) + signature_html\n",
    "    message.attach(MIMEText(email_html, 'html'))\n",
    "    \n",
    "    # Attach the logo image\n",
    "    with open('form_logo.png', 'rb') as img:\n",
    "        logo = MIMEImage(img.read())\n",
    "        logo.add_header('Content-ID', '<logo>')\n",
    "        message.attach(logo)\n",
    "\n",
    "    # Create a secure SSL context and send the email\n",
    "    with smtplib.SMTP(smtp_server, smtp_port) as server:\n",
    "        server.starttls()\n",
    "        server.login(username, password)\n",
    "        server.sendmail(username, recipient_email, message.as_string())\n",
    "\n",
    "# List of companies and their emails\n",
    "companies = {\n",
    "    'Company One': 'yoelgarcia304@gmail.com',\n",
    "}\n",
    "\n",
    "# Loop through the companies and send emails\n",
    "for company_name, email in companies.items():\n",
    "    send_email(email, company_name)\n",
    "    print(f\"Sent a friendly note to {company_name}\")"
   ]
  },
  {
   "cell_type": "code",
   "execution_count": null,
   "id": "87bdfce2-91b3-466c-9419-2280f8c0220a",
   "metadata": {},
   "outputs": [],
   "source": []
  }
 ],
 "metadata": {
  "kernelspec": {
   "display_name": "Python 3 (ipykernel)",
   "language": "python",
   "name": "python3"
  },
  "language_info": {
   "codemirror_mode": {
    "name": "ipython",
    "version": 3
   },
   "file_extension": ".py",
   "mimetype": "text/x-python",
   "name": "python",
   "nbconvert_exporter": "python",
   "pygments_lexer": "ipython3",
   "version": "3.12.0"
  }
 },
 "nbformat": 4,
 "nbformat_minor": 5
}
