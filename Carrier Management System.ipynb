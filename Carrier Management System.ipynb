{
 "cells": [
  {
   "cell_type": "code",
   "execution_count": 1,
   "id": "792933e2",
   "metadata": {},
   "outputs": [],
   "source": [
    "import pandas as pd"
   ]
  },
  {
   "cell_type": "code",
   "execution_count": 3,
   "id": "0a176fd2",
   "metadata": {},
   "outputs": [
    {
     "name": "stdout",
     "output_type": "stream",
     "text": [
      "Carrier Tracking DataFrame:\n",
      "Empty DataFrame\n",
      "Columns: [Carrier Name, Contact Person, Phone Number, Email, MC Number, USDOT Number, Equipment Types, Service Areas, Insurance Coverage, Insurance Expiry Date, Carrier Rating, Notes]\n",
      "Index: []\n"
     ]
    },
    {
     "data": {
      "text/html": [
       "<div>\n",
       "<style scoped>\n",
       "    .dataframe tbody tr th:only-of-type {\n",
       "        vertical-align: middle;\n",
       "    }\n",
       "\n",
       "    .dataframe tbody tr th {\n",
       "        vertical-align: top;\n",
       "    }\n",
       "\n",
       "    .dataframe thead th {\n",
       "        text-align: right;\n",
       "    }\n",
       "</style>\n",
       "<table border=\"1\" class=\"dataframe\">\n",
       "  <thead>\n",
       "    <tr style=\"text-align: right;\">\n",
       "      <th></th>\n",
       "      <th>Carrier Name</th>\n",
       "      <th>Contact Person</th>\n",
       "      <th>Phone Number</th>\n",
       "      <th>Email</th>\n",
       "      <th>MC Number</th>\n",
       "      <th>USDOT Number</th>\n",
       "      <th>Equipment Types</th>\n",
       "      <th>Service Areas</th>\n",
       "      <th>Insurance Coverage</th>\n",
       "      <th>Insurance Expiry Date</th>\n",
       "      <th>Carrier Rating</th>\n",
       "      <th>Notes</th>\n",
       "    </tr>\n",
       "  </thead>\n",
       "  <tbody>\n",
       "  </tbody>\n",
       "</table>\n",
       "</div>"
      ],
      "text/plain": [
       "Empty DataFrame\n",
       "Columns: [Carrier Name, Contact Person, Phone Number, Email, MC Number, USDOT Number, Equipment Types, Service Areas, Insurance Coverage, Insurance Expiry Date, Carrier Rating, Notes]\n",
       "Index: []"
      ]
     },
     "execution_count": 3,
     "metadata": {},
     "output_type": "execute_result"
    }
   ],
   "source": [
    "# Define the columns for the carrier tracking dataset\n",
    "columns = [\n",
    "    \"Carrier Name\",\n",
    "    \"Contact Person\",\n",
    "    \"Phone Number\",\n",
    "    \"Email\",\n",
    "    \"MC Number\",\n",
    "    \"USDOT Number\",\n",
    "    \"Equipment Types\",\n",
    "    \"Service Areas\",\n",
    "    \"Insurance Coverage\",\n",
    "    \"Insurance Expiry Date\",\n",
    "    \"Carrier Rating\",\n",
    "    \"Notes\"\n",
    "]\n",
    "\n",
    "# Create an empty DataFrame with the defined columns\n",
    "carrier_df = pd.DataFrame(columns=columns)\n",
    "\n",
    "# Display the empty carrier tracking DataFrame\n",
    "print(\"Carrier Tracking DataFrame:\")\n",
    "print(carrier_df)\n",
    "carrier_df"
   ]
  },
  {
   "cell_type": "code",
   "execution_count": 3,
   "id": "c996859d",
   "metadata": {},
   "outputs": [
    {
     "name": "stdout",
     "output_type": "stream",
     "text": [
      "Connected to MySQL database\n",
      "Table 'carrier_tracking' already exists.\n"
     ]
    }
   ],
   "source": [
    "import pandas as pd\n",
    "import mysql.connector\n",
    "\n",
    "# MySQL connection configuration\n",
    "host = 'localhost'\n",
    "user = 'yoel'\n",
    "password = 'Lockmail@27'\n",
    "database = 'load_management'\n",
    "\n",
    "# Create a connection to the MySQL database\n",
    "connection = mysql.connector.connect(\n",
    "    host=host,\n",
    "    user=user,\n",
    "    password=password,\n",
    "    database=database\n",
    ")\n",
    "\n",
    "# Check if the connection is successful\n",
    "if connection.is_connected():\n",
    "    print(\"Connected to MySQL database\")\n",
    "\n",
    "    # Define the name of the table you want to create\n",
    "    table_name = \"carrier_tracking\"\n",
    "\n",
    "    # Check if the table exists in the database\n",
    "    cursor = connection.cursor()\n",
    "    cursor.execute(\"SHOW TABLES LIKE %s\", (table_name,))\n",
    "    table_exists = cursor.fetchone()\n",
    "\n",
    "    if not table_exists:\n",
    "        # Define the SQL command to create the carrier_tracking table\n",
    "        create_table_query = \"\"\"\n",
    "        CREATE TABLE carrier_tracking (\n",
    "            ID INT AUTO_INCREMENT PRIMARY KEY,\n",
    "            Carrier_Name VARCHAR(255),\n",
    "            Contact_Person VARCHAR(255),\n",
    "            Phone_Number VARCHAR(20),\n",
    "            Email VARCHAR(255),\n",
    "            MC_Number VARCHAR(20),\n",
    "            USDOT_Number VARCHAR(20),\n",
    "            Equipment_Types VARCHAR(255),\n",
    "            Service_Areas VARCHAR(255),\n",
    "            Insurance_Coverage VARCHAR(255),\n",
    "            Insurance_Expiry_Date DATE,\n",
    "            Carrier_Rating DECIMAL(5, 2),\n",
    "            Notes TEXT\n",
    "        )\n",
    "        \"\"\"\n",
    "\n",
    "        # Execute the SQL command to create the table\n",
    "        cursor.execute(create_table_query)\n",
    "\n",
    "        # Commit the changes to the database\n",
    "        connection.commit()\n",
    "\n",
    "        print(f\"Table '{table_name}' created.\")\n",
    "    else:\n",
    "        print(f\"Table '{table_name}' already exists.\")\n",
    "\n",
    "    # Close the cursor\n",
    "    cursor.close()\n",
    "\n",
    "# Close the database connection when done\n",
    "connection.close()"
   ]
  },
  {
   "cell_type": "code",
   "execution_count": null,
   "id": "fa0513f0",
   "metadata": {},
   "outputs": [],
   "source": []
  }
 ],
 "metadata": {
  "kernelspec": {
   "display_name": "Python 3 (ipykernel)",
   "language": "python",
   "name": "python3"
  },
  "language_info": {
   "codemirror_mode": {
    "name": "ipython",
    "version": 3
   },
   "file_extension": ".py",
   "mimetype": "text/x-python",
   "name": "python",
   "nbconvert_exporter": "python",
   "pygments_lexer": "ipython3",
   "version": "3.12.0"
  }
 },
 "nbformat": 4,
 "nbformat_minor": 5
}
